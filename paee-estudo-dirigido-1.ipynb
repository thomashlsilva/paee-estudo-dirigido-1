{
 "cells": [
  {
   "cell_type": "markdown",
   "id": "ea1c7590-8992-4f14-8e2c-b1e8e7fd893d",
   "metadata": {},
   "source": [
    "## Disciplina: Planejamento e Análise Estatística de Experimentos\n",
    "\n",
    "### Estudo Dirigido 1\n",
    "\n",
    "#### 1. Vamos simular o que é confiança\n",
    "\n",
    "- Vamos gerar uma população:"
   ]
  },
  {
   "cell_type": "code",
   "execution_count": 13,
   "id": "fa9e6708-036e-4a85-97a3-a5ce790af76a",
   "metadata": {},
   "outputs": [],
   "source": [
    "pop=rnorm(100000, 180,20)"
   ]
  },
  {
   "cell_type": "markdown",
   "id": "04e9e466-48d3-43da-8c43-408acd51014c",
   "metadata": {},
   "source": [
    "Neste caso foi gerada uma população de tamanho 100 mil com uma medida normalmente distribuído com média 180 e desvio padrão 20.\n",
    "\n",
    "- Vamos fixar uma confiança de 95%\n",
    "- <span style=\"color:red\">A confiança não é a probabilidade de que o intervalo vai conter a média populacional</span>\n",
    "- <span style=\"color:green\">A confiança é um exercício de imaginação: Imagine que você poderia colher infinitas amostras nas mesmas condições e, para cada amostra, faremos um intervalo de confiança para a média. A confiança então seria a proporção de intervalos que contém a verdadeira média populacional</span>\n",
    "- Bora verificar\n",
    "\n",
    "Vamos coletar amostras de tamanho 100 da nossa população. No caso não vamos coletar infinitas amostas mas um número razoável: 10mil. Para cada amostra vamos fazer um intervalo de confiança e depois vamos verificar se a média populacional (no caso $\\mu$ = 180) pertence ao intervalo.\n",
    "\n",
    "Inicialmente vamos gerar apenas uma amostra para nos acostumarmos com os comandos."
   ]
  },
  {
   "cell_type": "code",
   "execution_count": 17,
   "id": "87192c4d-185a-45fe-b737-76bd2edd6841",
   "metadata": {},
   "outputs": [],
   "source": [
    "x=sample(pop,100)"
   ]
  },
  {
   "cell_type": "markdown",
   "id": "4b1cf2d6-78aa-44e0-87a1-373fc3708327",
   "metadata": {},
   "source": [
    "`sample` é o comando do R para selecionar amostras. Neste caso selecionamos uma amostra de tamanho 100 da população (pop).\n",
    "\n",
    "Para obter o intervalo de confiança usaremos o comando:"
   ]
  },
  {
   "cell_type": "code",
   "execution_count": 18,
   "id": "83453ae4-e7b0-4821-8703-f10b507b1c2f",
   "metadata": {},
   "outputs": [
    {
     "data": {
      "text/html": [
       "<style>\n",
       ".list-inline {list-style: none; margin:0; padding: 0}\n",
       ".list-inline>li {display: inline-block}\n",
       ".list-inline>li:not(:last-child)::after {content: \"\\00b7\"; padding: 0 .5ex}\n",
       "</style>\n",
       "<ol class=list-inline><li>177.286961013462</li><li>185.496941677679</li></ol>\n"
      ],
      "text/latex": [
       "\\begin{enumerate*}\n",
       "\\item 177.286961013462\n",
       "\\item 185.496941677679\n",
       "\\end{enumerate*}\n"
      ],
      "text/markdown": [
       "1. 177.286961013462\n",
       "2. 185.496941677679\n",
       "\n",
       "\n"
      ],
      "text/plain": [
       "[1] 177.2870 185.4969\n",
       "attr(,\"conf.level\")\n",
       "[1] 0.95"
      ]
     },
     "metadata": {},
     "output_type": "display_data"
    }
   ],
   "source": [
    "t.test(x)$conf.int"
   ]
  },
  {
   "cell_type": "markdown",
   "id": "eae88a11-3d26-4c43-b54f-135648b523f9",
   "metadata": {},
   "source": [
    "Para obter o limite inferior faça:"
   ]
  },
  {
   "cell_type": "code",
   "execution_count": 19,
   "id": "24340253-d4b5-42a2-8f9c-e6a8bd948239",
   "metadata": {},
   "outputs": [
    {
     "data": {
      "text/html": [
       "177.286961013462"
      ],
      "text/latex": [
       "177.286961013462"
      ],
      "text/markdown": [
       "177.286961013462"
      ],
      "text/plain": [
       "[1] 177.287"
      ]
     },
     "metadata": {},
     "output_type": "display_data"
    }
   ],
   "source": [
    "t.test(x)$conf.int[1]"
   ]
  },
  {
   "cell_type": "markdown",
   "id": "c209e372-4093-4aca-93f1-cc65db2bab9b",
   "metadata": {},
   "source": [
    "Para obter o limite superior faça"
   ]
  },
  {
   "cell_type": "code",
   "execution_count": 20,
   "id": "6f6a269d-05df-4d0d-8124-b70b8d9d9ad4",
   "metadata": {},
   "outputs": [
    {
     "data": {
      "text/html": [
       "185.496941677679"
      ],
      "text/latex": [
       "185.496941677679"
      ],
      "text/markdown": [
       "185.496941677679"
      ],
      "text/plain": [
       "[1] 185.4969"
      ]
     },
     "metadata": {},
     "output_type": "display_data"
    }
   ],
   "source": [
    "t.test(x)$conf.int[2]"
   ]
  },
  {
   "cell_type": "markdown",
   "id": "f6ede84d-8e60-4b77-918d-165e46074c9b",
   "metadata": {},
   "source": [
    "Para saber se o valor 180 pertence ao intervalo faça o teste lógico:"
   ]
  },
  {
   "cell_type": "code",
   "execution_count": 21,
   "id": "365f0f0d-e65c-47cc-bf93-95c75c0499e6",
   "metadata": {},
   "outputs": [
    {
     "data": {
      "text/html": [
       "TRUE"
      ],
      "text/latex": [
       "TRUE"
      ],
      "text/markdown": [
       "TRUE"
      ],
      "text/plain": [
       "[1] TRUE"
      ]
     },
     "metadata": {},
     "output_type": "display_data"
    }
   ],
   "source": [
    "t.test(x)$conf.int[1]<180 & t.test(x)$conf.int[2]>180"
   ]
  },
  {
   "cell_type": "markdown",
   "id": "9fabd586-333a-4b1a-9569-b09d83b9e7a6",
   "metadata": {},
   "source": [
    "Agora vamos fazer isto 10mil vezes usando um `for`"
   ]
  },
  {
   "cell_type": "code",
   "execution_count": 22,
   "id": "675f466f-3cba-464a-aefc-a0d4ce219099",
   "metadata": {},
   "outputs": [],
   "source": [
    "x=NULL #vamos usar para as amostras\n",
    "l=NULL #vamos usar para armazenar o teste lógico de 180 esta no intervalo\n",
    "\n",
    "for( i in 1:10000) {\n",
    "    x=sample(pop,100)\n",
    "    l[i]=(t.test(x)$conf.int[1]<180 & t.test(x)$conf.int[2]>180)\n",
    "}"
   ]
  },
  {
   "cell_type": "markdown",
   "id": "400222c3-3300-4593-b676-641da5d2c5af",
   "metadata": {},
   "source": [
    "Quando usamos o comando sum em vetor lógico iremos somar os valores TRUE. O comando `length` obtém o tamanho do vetor. Para a proporção de intervalos que continham o valor da média populacional faça:"
   ]
  },
  {
   "cell_type": "code",
   "execution_count": 23,
   "id": "edf44c3a-c721-4aa7-ac5a-16c1ec0bbbf5",
   "metadata": {},
   "outputs": [
    {
     "data": {
      "text/html": [
       "0.9546"
      ],
      "text/latex": [
       "0.9546"
      ],
      "text/markdown": [
       "0.9546"
      ],
      "text/plain": [
       "[1] 0.9546"
      ]
     },
     "metadata": {},
     "output_type": "display_data"
    }
   ],
   "source": [
    "sum(l)/length(l)"
   ]
  },
  {
   "cell_type": "markdown",
   "id": "291c13bd-6ed1-4867-9246-ee39aa6f2a6a",
   "metadata": {},
   "source": [
    "Como exercício repita o procedimento acima para\n",
    "- Mais de 10 mil amostras\n",
    "- Diferentes valores de confiança"
   ]
  },
  {
   "cell_type": "code",
   "execution_count": 24,
   "id": "5abbcea5-ed5c-4bf9-8056-9091b388af4a",
   "metadata": {},
   "outputs": [
    {
     "data": {
      "text/html": [
       "0.9507"
      ],
      "text/latex": [
       "0.9507"
      ],
      "text/markdown": [
       "0.9507"
      ],
      "text/plain": [
       "[1] 0.9507"
      ]
     },
     "metadata": {},
     "output_type": "display_data"
    }
   ],
   "source": [
    "x=NULL #vamos usar para as amostras\n",
    "l=NULL #vamos usar para armazenar o teste lógico de 180 esta no intervalo\n",
    "\n",
    "for( i in 1:50000) {\n",
    "    x=sample(pop,100)\n",
    "    l[i]=(t.test(x, conf.level=0.95)$conf.int[1]<180 & t.test(x, conf.level=0.95)$conf.int[2]>180)\n",
    "}\n",
    "sum(l)/length(l)"
   ]
  },
  {
   "cell_type": "markdown",
   "id": "8ffd6be2-f104-4570-a380-c50254b86054",
   "metadata": {},
   "source": [
    "Para o número de amostras igual à $50000$ e nível de confiança igual à $0.95$, obteve-se o valor experimental do nível de confiança igual à $0.9507$. Em comparação a um número de amostras inferior, nota-se que o resultado atingido pelo segundo algoritmo é mais próximo da teoria, ou seja, a medida que o número de amostras tende ao infinito, o valor do nível de confiança experimental torna-se idêntico ao valor teórico."
   ]
  },
  {
   "cell_type": "code",
   "execution_count": 25,
   "id": "6de8918a-f8f2-4bbd-a1df-a840c65c8829",
   "metadata": {},
   "outputs": [
    {
     "data": {
      "text/html": [
       "0.8446"
      ],
      "text/latex": [
       "0.8446"
      ],
      "text/markdown": [
       "0.8446"
      ],
      "text/plain": [
       "[1] 0.8446"
      ]
     },
     "metadata": {},
     "output_type": "display_data"
    }
   ],
   "source": [
    "x=NULL #vamos usar para as amostras\n",
    "l=NULL #vamos usar para armazenar o teste lógico de 180 esta no intervalo\n",
    "\n",
    "for( i in 1:10000) {\n",
    "    x=sample(pop,100)\n",
    "    l[i]=(t.test(x, conf.level=0.85)$conf.int[1]<180 & t.test(x, conf.level=0.85)$conf.int[2]>180)\n",
    "}\n",
    "sum(l)/length(l)"
   ]
  },
  {
   "cell_type": "code",
   "execution_count": 26,
   "id": "c91a2653-d350-4124-8b9d-32f5edd960ac",
   "metadata": {},
   "outputs": [
    {
     "data": {
      "text/html": [
       "0.8986"
      ],
      "text/latex": [
       "0.8986"
      ],
      "text/markdown": [
       "0.8986"
      ],
      "text/plain": [
       "[1] 0.8986"
      ]
     },
     "metadata": {},
     "output_type": "display_data"
    }
   ],
   "source": [
    "x=NULL #vamos usar para as amostras\n",
    "l=NULL #vamos usar para armazenar o teste lógico de 180 esta no intervalo\n",
    "\n",
    "for( i in 1:10000) {\n",
    "    x=sample(pop,100)\n",
    "    l[i]=(t.test(x, conf.level=0.90)$conf.int[1]<180 & t.test(x, conf.level=0.90)$conf.int[2]>180)\n",
    "}\n",
    "sum(l)/length(l)"
   ]
  },
  {
   "cell_type": "code",
   "execution_count": 27,
   "id": "ba383f17-e94d-480c-96b6-74ab7069c15a",
   "metadata": {},
   "outputs": [
    {
     "data": {
      "text/html": [
       "0.9892"
      ],
      "text/latex": [
       "0.9892"
      ],
      "text/markdown": [
       "0.9892"
      ],
      "text/plain": [
       "[1] 0.9892"
      ]
     },
     "metadata": {},
     "output_type": "display_data"
    }
   ],
   "source": [
    "x=NULL #vamos usar para as amostras\n",
    "l=NULL #vamos usar para armazenar o teste lógico de 180 esta no intervalo\n",
    "\n",
    "for( i in 1:10000) {\n",
    "    x=sample(pop,100)\n",
    "    l[i]=(t.test(x, conf.level=0.99)$conf.int[1]<180 & t.test(x, conf.level=0.99)$conf.int[2]>180)\n",
    "}\n",
    "sum(l)/length(l)"
   ]
  },
  {
   "cell_type": "code",
   "execution_count": 28,
   "id": "67033601-3248-47a4-bfa6-2ea984dbdd6f",
   "metadata": {},
   "outputs": [
    {
     "data": {
      "text/html": [
       "0.85006"
      ],
      "text/latex": [
       "0.85006"
      ],
      "text/markdown": [
       "0.85006"
      ],
      "text/plain": [
       "[1] 0.85006"
      ]
     },
     "metadata": {},
     "output_type": "display_data"
    }
   ],
   "source": [
    "x=NULL #vamos usar para as amostras\n",
    "l=NULL #vamos usar para armazenar o teste lógico de 180 esta no intervalo\n",
    "\n",
    "for( i in 1:50000) {\n",
    "    x=sample(pop,100)\n",
    "    l[i]=(t.test(x, conf.level=0.85)$conf.int[1]<180 & t.test(x, conf.level=0.85)$conf.int[2]>180)\n",
    "}\n",
    "sum(l)/length(l)"
   ]
  },
  {
   "cell_type": "code",
   "execution_count": 29,
   "id": "911a628a-25fb-4f59-ac1b-90e97ecacec5",
   "metadata": {},
   "outputs": [
    {
     "data": {
      "text/html": [
       "0.89946"
      ],
      "text/latex": [
       "0.89946"
      ],
      "text/markdown": [
       "0.89946"
      ],
      "text/plain": [
       "[1] 0.89946"
      ]
     },
     "metadata": {},
     "output_type": "display_data"
    }
   ],
   "source": [
    "x=NULL #vamos usar para as amostras\n",
    "l=NULL #vamos usar para armazenar o teste lógico de 180 esta no intervalo\n",
    "\n",
    "for( i in 1:50000) {\n",
    "    x=sample(pop,100)\n",
    "    l[i]=(t.test(x, conf.level=0.90)$conf.int[1]<180 & t.test(x, conf.level=0.90)$conf.int[2]>180)\n",
    "}\n",
    "sum(l)/length(l)"
   ]
  },
  {
   "cell_type": "code",
   "execution_count": 30,
   "id": "82620e95-566f-4439-b132-b05bf4bee27a",
   "metadata": {},
   "outputs": [
    {
     "data": {
      "text/html": [
       "0.99036"
      ],
      "text/latex": [
       "0.99036"
      ],
      "text/markdown": [
       "0.99036"
      ],
      "text/plain": [
       "[1] 0.99036"
      ]
     },
     "metadata": {},
     "output_type": "display_data"
    }
   ],
   "source": [
    "x=NULL #vamos usar para as amostras\n",
    "l=NULL #vamos usar para armazenar o teste lógico de 180 esta no intervalo\n",
    "\n",
    "for( i in 1:50000) {\n",
    "    x=sample(pop,100)\n",
    "    l[i]=(t.test(x, conf.level=0.99)$conf.int[1]<180 & t.test(x, conf.level=0.99)$conf.int[2]>180)\n",
    "}\n",
    "sum(l)/length(l)"
   ]
  },
  {
   "cell_type": "markdown",
   "id": "54224190-137f-4090-bdec-ef1058e915f8",
   "metadata": {},
   "source": [
    "Foram realizados três experimentos com mesmo número de amostras igual à $10000$ e três níveis de confiança distintos iguais à: $0.85$, $0.90$ e $0.99$. Os três resultados de nível de confiança experimental dos três algoritmos foram, respectivamente: $0.8446$, $0.8986$ e $0.9892$. E para o número de amostras igual à $50000$, obtiveram-se, respectivamente: $0.85006$, $0.89946$ e $0.99036$. Confirmando a afirmativa de que o valor experimental da confiança se aproxima do valor teórico à medida que o número de amostras tende ao infinito."
   ]
  },
  {
   "cell_type": "markdown",
   "id": "0ae73e85-09eb-406a-8643-d2880df99d2c",
   "metadata": {},
   "source": [
    "#### 2. Aproveitando o Exercício anterior vamos entender dois conceitos :\n",
    "- Estimadores não viciados\n",
    "- Teorema central do limite e Distribuição t-student\n",
    "Lembre-se que um estimador não viciado tem a sua Esperança igual ao parâmetro populacional. Por exemplo a Média amostral é um estimador não viciado para a média populacional.\n",
    "\n",
    "$E(\\overline{X}) = \\mu$\n",
    "\n",
    "Sabemos que a esperança também é um exercício de imaginação: <span style=\"color:blue\">Se fosse possível coletar infinitas amostras nas mesmas condições de uma população e para cada amostra calculasse a medida amostra a esperança seria a média destas medidas.</span> Vamos simular isto. Vamos utilizar a mesma população do exercício anterior e gerar infinitas amostras (no nosso caso só 10mil) e para cada uma calcular a média amostral:"
   ]
  },
  {
   "cell_type": "code",
   "execution_count": 14,
   "id": "e36f363e-325d-4aa7-a73c-1d05e6359b50",
   "metadata": {},
   "outputs": [],
   "source": [
    "media=NULL\n",
    "\n",
    "for(i in 1:10000) {\n",
    "    x=sample(pop,100)\n",
    "    media[i]=mean(x)\n",
    "}"
   ]
  },
  {
   "cell_type": "markdown",
   "id": "5cd16e84-6d97-470c-bd41-b2db0de729fe",
   "metadata": {},
   "source": [
    "Espera-se que se tirar a média amostral destas 10mil amostra que este valor se aproxime da média populacional ($\\mu = 180$)."
   ]
  },
  {
   "cell_type": "code",
   "execution_count": 15,
   "id": "b5f246af-55ea-4e01-84a5-3ac50bdac3f5",
   "metadata": {},
   "outputs": [
    {
     "data": {
      "text/html": [
       "180.021227620594"
      ],
      "text/latex": [
       "180.021227620594"
      ],
      "text/markdown": [
       "180.021227620594"
      ],
      "text/plain": [
       "[1] 180.0212"
      ]
     },
     "metadata": {},
     "output_type": "display_data"
    }
   ],
   "source": [
    "mean(media)"
   ]
  },
  {
   "cell_type": "markdown",
   "id": "4283aa6c-c1a0-47d4-8c77-7a4765f3fa44",
   "metadata": {},
   "source": [
    "Aumente o número de amostras (mais que 10 mil) e verifique que teremos uma aproximação melhor."
   ]
  },
  {
   "cell_type": "code",
   "execution_count": 16,
   "id": "d24b5e3a-3d61-4c1b-99e9-ea1470986d36",
   "metadata": {},
   "outputs": [],
   "source": [
    "media=NULL\n",
    "\n",
    "for(i in 1:50000) {\n",
    "    x=sample(pop,100)\n",
    "    media[i]=mean(x)\n",
    "}"
   ]
  },
  {
   "cell_type": "code",
   "execution_count": 17,
   "id": "42859f6f-a49b-4b41-b715-74728be11226",
   "metadata": {},
   "outputs": [
    {
     "data": {
      "text/html": [
       "179.999222770185"
      ],
      "text/latex": [
       "179.999222770185"
      ],
      "text/markdown": [
       "179.999222770185"
      ],
      "text/plain": [
       "[1] 179.9992"
      ]
     },
     "metadata": {},
     "output_type": "display_data"
    }
   ],
   "source": [
    "mean(media)"
   ]
  },
  {
   "cell_type": "markdown",
   "id": "e3740adb-c426-4737-941b-4d44b39a86e9",
   "metadata": {},
   "source": [
    "Agora vamos criar um estimador viciado para o desvio padrão:\n",
    "\n",
    "$\\text{se}(x) = \\sqrt{\\frac{\\sum_{i=1}^{n} (x_i - \\overline{x})^2}{n}}$\n",
    "\n",
    "No r poderemos fazer uma função para calcular esta quantidade:"
   ]
  },
  {
   "cell_type": "code",
   "execution_count": 18,
   "id": "07b5862b-897d-4d47-80d3-6ee9e3cc53e9",
   "metadata": {},
   "outputs": [],
   "source": [
    "se=function(x){\n",
    "    return(sqrt((sum((x-mean(x))^2)/length(x))))\n",
    "}"
   ]
  },
  {
   "cell_type": "markdown",
   "id": "1ee28784-1967-489d-bcdf-c4a22df95420",
   "metadata": {},
   "source": [
    "Vamos calcular esta medida para infinitas amostras.\n",
    "Se esta medida for um estimador não viciado para o desvio padrão populacional esperamos que sua média fique perto de 20 ($\\sigma = 20$)."
   ]
  },
  {
   "cell_type": "code",
   "execution_count": 21,
   "id": "3503563b-f8fe-41ae-9328-d6c20736e38a",
   "metadata": {},
   "outputs": [
    {
     "data": {
      "text/html": [
       "19.8562109644269"
      ],
      "text/latex": [
       "19.8562109644269"
      ],
      "text/markdown": [
       "19.8562109644269"
      ],
      "text/plain": [
       "[1] 19.85621"
      ]
     },
     "metadata": {},
     "output_type": "display_data"
    }
   ],
   "source": [
    "see=NULL\n",
    "for(i in 1:10000){\n",
    "    x=sample(pop,100)\n",
    "    see[i]=se(x)\n",
    "}\n",
    "\n",
    "mean(see)"
   ]
  },
  {
   "cell_type": "markdown",
   "id": "7ba6a16b-b939-4b80-89d5-5699153d40c2",
   "metadata": {},
   "source": [
    "Refaça o exemplo com o desvio padrão populacional e verifique o resultado.\n",
    "\n",
    "$\\text{s}(x) = \\sqrt{\\frac{\\sum_{i=1}^{n} (x_i - \\overline{x})^2}{n-1}}$"
   ]
  },
  {
   "cell_type": "code",
   "execution_count": 22,
   "id": "41c732c7-4050-4db3-8545-4a70a2aeb339",
   "metadata": {},
   "outputs": [
    {
     "data": {
      "text/html": [
       "19.9463642563101"
      ],
      "text/latex": [
       "19.9463642563101"
      ],
      "text/markdown": [
       "19.9463642563101"
      ],
      "text/plain": [
       "[1] 19.94636"
      ]
     },
     "metadata": {},
     "output_type": "display_data"
    }
   ],
   "source": [
    "s=function(x){\n",
    "    return(sqrt((sum((x-mean(x))^2)/(length(x)-1))))\n",
    "}\n",
    "\n",
    "see=NULL\n",
    "for(i in 1:10000){\n",
    "    x=sample(pop,100)\n",
    "    see[i]=s(x)\n",
    "}\n",
    "\n",
    "mean(see)"
   ]
  },
  {
   "cell_type": "markdown",
   "id": "fd58941a-aeae-4f24-bb4e-63984ab99ad2",
   "metadata": {},
   "source": [
    "#### Teorema Central do limite\n",
    "Lembre: O TCL também é um exercício de imaginação: Se fosse possível coletar infinitas amostras e, para cada uma destas amostras, calcularmos a média amostral teríamos como resultado que o gráfico destas médias teria forma de sino centrado na verdadeira média populacional. Usando o exemplo anterior temos:"
   ]
  },
  {
   "cell_type": "code",
   "execution_count": null,
   "id": "8be3b435-f8c3-46aa-9ffe-f900c2436efd",
   "metadata": {},
   "outputs": [],
   "source": [
    "x=NULL #vamos usar para as amostras\n",
    "media=NULL #vamos usar para armazenar as médias das amostras\n",
    "for( i in 1:90000){\n",
    "x=sample(pop,100)\n",
    "media[i]=mean(x)\n",
    "}"
   ]
  },
  {
   "cell_type": "markdown",
   "id": "06d18f07-ae80-4694-a80a-d6fbca95142a",
   "metadata": {},
   "source": [
    "Vamos fazer dois gráficos: Um histograma e um histograma suavizado."
   ]
  },
  {
   "cell_type": "code",
   "execution_count": 23,
   "id": "e9f00be7-eac9-469f-bc71-c125543dd594",
   "metadata": {},
   "outputs": [
    {
     "data": {
      "image/png": "[encoded data removed]",
      "text/plain": [
       "Plot with title \"Histogram of x\""
      ]
     },
     "metadata": {
      "image/png": {
       "height": 420,
       "width": 420
      }
     },
     "output_type": "display_data"
    },
    {
     "data": {
      "image/png": "[encoded data removed]",
      "text/plain": [
       "Plot with title \"density(x = x)\""
      ]
     },
     "metadata": {
      "image/png": {
       "height": 420,
       "width": 420
      }
     },
     "output_type": "display_data"
    }
   ],
   "source": [
    "hist(x)\n",
    "plot(density(x))"
   ]
  },
  {
   "cell_type": "markdown",
   "id": "294cb0dc-0808-412f-bb8f-c45e1fddb588",
   "metadata": {},
   "source": [
    "Porém o teorema central do limite não é válido para pequenas amostras ou distribuições muito assimétricas:\n",
    "\n",
    "- no caso de pequenas amostas a ocorrÊncia de um valor extremo altera muito o valor da média. Exemplo: Se pegarmos uma amostra de tamanho 5 da nossa população:\n",
    "\n",
    "170, 174, 189, 181, 280\n",
    "\n",
    "O valor 180 \"puxa\" o valor da média para cima. Então para amostras pequenas começaram a aparecer valores nas caudas e o teorema central do limite falha. Daí o Willian Gosset conseguiu uma solução: usar uma distribuição com caudaas mais pesadas (t-Student).\n",
    "\n",
    "- Para o segundo caso até conseguimos normalidade mas com amostras muito grandes\n",
    "(geralmente acima de 1000 itens).\n",
    "\n",
    "Vamos comparar uma amostra pequena e uma amostra grande em nosso exercício de imaginação. Vamos plotar os dois resultados no mesmo gráfico:"
   ]
  },
  {
   "cell_type": "code",
   "execution_count": 26,
   "id": "207c73c0-c64e-41d7-b76f-55505b3333f0",
   "metadata": {},
   "outputs": [
    {
     "data": {
      "image/png": "[encoded data removed]",
      "text/plain": [
       "plot without title"
      ]
     },
     "metadata": {
      "image/png": {
       "height": 420,
       "width": 420
      }
     },
     "output_type": "display_data"
    }
   ],
   "source": [
    "x=NULL #vamos usar para as amostras grandes\n",
    "y=NULL # vamos usar para amostras pequenas\n",
    "media=NULL #vamos usar para armazenar as médias das amostras grandes\n",
    "media1=NULL #vamos usar para armazenar as médias das amostras pequenas\n",
    "\n",
    "for(i in 1:30000) {\n",
    "    x=sample(pop,100)\n",
    "    y=sample(pop,10)\n",
    "    media[i]=mean(x)\n",
    "    media1[i]=mean(x)\n",
    "}\n",
    "# E o gráfico\n",
    "plot(density(x), lwd=3, col=\"grey\", ann=FALSE, las=2)\n",
    "par(new=TRUE)\n",
    "plot(density(y), ann=FALSE, axes=FALSE,col='red')"
   ]
  },
  {
   "cell_type": "markdown",
   "id": "45bc8b31-b405-4d95-bc9b-6c1c89af296d",
   "metadata": {},
   "source": [
    "Refaça o exercício para diferentes tamanhos de amostra para x e y.\n",
    "\n",
    "- multiplicou-se o tamanho de $x$ por $2$ e dividiu-se o tamanho de $y$ por $2$, então, $size(x) = 200$ e $size(y) = 5$\n",
    "- dividiu-se  o tamanho de $x$ por $2$ e multiplicou-se o tamanho de $y$ por $2$, então, $size(x) = 50$ e $size(y) = 20$\n",
    "- multiplicaram-se os tamanhos de $x$ e de $y$ por 2, então, $size(x) = 200$ e $size(y) = 20$\n",
    "- mantiveram-se os dois tamanhos idênticos, então, $size(x) = 100$ e $size(y) = 100$"
   ]
  },
  {
   "cell_type": "code",
   "execution_count": 27,
   "id": "7660ddc2-5e03-46fd-8e3b-463fa698e418",
   "metadata": {},
   "outputs": [
    {
     "data": {
      "image/png": "[encoded data removed]",
      "text/plain": [
       "plot without title"
      ]
     },
     "metadata": {
      "image/png": {
       "height": 420,
       "width": 420
      }
     },
     "output_type": "display_data"
    }
   ],
   "source": [
    "x=NULL #vamos usar para as amostras grandes\n",
    "y=NULL # vamos usar para amostras pequenas\n",
    "media=NULL #vamos usar para armazenar as médias das amostras grandes\n",
    "media1=NULL #vamos usar para armazenar as médias das amostras pequenas\n",
    "\n",
    "for(i in 1:30000) {\n",
    "    x=sample(pop,100*2)\n",
    "    y=sample(pop,10/2)\n",
    "    media[i]=mean(x)\n",
    "    media1[i]=mean(x)\n",
    "}\n",
    "# E o gráfico\n",
    "plot(density(x), lwd=3, col=\"grey\", ann=FALSE, las=2)\n",
    "par(new=TRUE)\n",
    "plot(density(y), ann=FALSE, axes=FALSE,col='red')"
   ]
  },
  {
   "cell_type": "code",
   "execution_count": 28,
   "id": "6e549679-1cca-468d-aa11-9cc23e2bc567",
   "metadata": {},
   "outputs": [
    {
     "data": {
      "image/png": "[encoded data removed]",
      "text/plain": [
       "plot without title"
      ]
     },
     "metadata": {
      "image/png": {
       "height": 420,
       "width": 420
      }
     },
     "output_type": "display_data"
    }
   ],
   "source": [
    "x=NULL #vamos usar para as amostras grandes\n",
    "y=NULL # vamos usar para amostras pequenas\n",
    "media=NULL #vamos usar para armazenar as médias das amostras grandes\n",
    "media1=NULL #vamos usar para armazenar as médias das amostras pequenas\n",
    "\n",
    "for(i in 1:30000) {\n",
    "    x=sample(pop,100/2)\n",
    "    y=sample(pop,10*2)\n",
    "    media[i]=mean(x)\n",
    "    media1[i]=mean(x)\n",
    "}\n",
    "# E o gráfico\n",
    "plot(density(x), lwd=3, col=\"grey\", ann=FALSE, las=2)\n",
    "par(new=TRUE)\n",
    "plot(density(y), ann=FALSE, axes=FALSE,col='red')"
   ]
  },
  {
   "cell_type": "code",
   "execution_count": 30,
   "id": "63100238-8a9b-41cb-a02c-c5531c62af2f",
   "metadata": {},
   "outputs": [
    {
     "data": {
      "image/png": "[encoded data removed]",
      "text/plain": [
       "plot without title"
      ]
     },
     "metadata": {
      "image/png": {
       "height": 420,
       "width": 420
      }
     },
     "output_type": "display_data"
    }
   ],
   "source": [
    "x=NULL #vamos usar para as amostras grandes\n",
    "y=NULL # vamos usar para amostras pequenas\n",
    "media=NULL #vamos usar para armazenar as médias das amostras grandes\n",
    "media1=NULL #vamos usar para armazenar as médias das amostras pequenas\n",
    "\n",
    "for(i in 1:30000) {\n",
    "    x=sample(pop,100*2)\n",
    "    y=sample(pop,10*2)\n",
    "    media[i]=mean(x)\n",
    "    media1[i]=mean(x)\n",
    "}\n",
    "# E o gráfico\n",
    "plot(density(x), lwd=3, col=\"grey\", ann=FALSE, las=2)\n",
    "par(new=TRUE)\n",
    "plot(density(y), ann=FALSE, axes=FALSE,col='red')"
   ]
  },
  {
   "cell_type": "code",
   "execution_count": 29,
   "id": "da20d787-0b1c-4d9e-8342-9f150e0219f1",
   "metadata": {},
   "outputs": [
    {
     "data": {
      "image/png": "[encoded data removed]",
      "text/plain": [
       "plot without title"
      ]
     },
     "metadata": {
      "image/png": {
       "height": 420,
       "width": 420
      }
     },
     "output_type": "display_data"
    }
   ],
   "source": [
    "x=NULL #vamos usar para as amostras grandes\n",
    "y=NULL # vamos usar para amostras pequenas\n",
    "media=NULL #vamos usar para armazenar as médias das amostras grandes\n",
    "media1=NULL #vamos usar para armazenar as médias das amostras pequenas\n",
    "\n",
    "for(i in 1:30000) {\n",
    "    x=sample(pop,100)\n",
    "    y=sample(pop,100)\n",
    "    media[i]=mean(x)\n",
    "    media1[i]=mean(x)\n",
    "}\n",
    "# E o gráfico\n",
    "plot(density(x), lwd=3, col=\"grey\", ann=FALSE, las=2)\n",
    "par(new=TRUE)\n",
    "plot(density(y), ann=FALSE, axes=FALSE,col='red')"
   ]
  },
  {
   "cell_type": "markdown",
   "id": "c2e0aa4c-b5e8-42c0-a526-e066334b2e0e",
   "metadata": {},
   "source": [
    "Considere que seu trabalho é comparar o desempenho de dois algoritmos (A e B) de visão computacional, que usam métodos diferentes para geração de digitais humanas realistas.\n",
    "- São sistema complexos cuja execução leva tempos longos para geração das digitais. O sistema A foi testado 8 vezes e o sistema B apenas 5, onde em cada experimento utilizou-se o mesmo padrão de resultado a obter.\n",
    "- Os tempos de teste dos algoritmos estão na tabela a seguir. Com base nesses resultados, pede-se que se determine qual algoritmo teve melhor desempenho com 5% de significância.\n",
    "- Inicialmente coloque os dados no R-studio:"
   ]
  },
  {
   "cell_type": "code",
   "execution_count": 31,
   "id": "271fe956-a517-409f-84e3-656d08fe382b",
   "metadata": {},
   "outputs": [],
   "source": [
    "a=c(1062,1081,1116,1053,1103,1086,1135,1133,1136,1123,1095,1132,1098,1069,1058,1092,1073,1110,1104,1061)\n",
    "b=c(1073,1141,1051,1040,1113,1111,1099,1028,1059,1081,1065,1106,1019,1130,1120,1070,1083,1010)"
   ]
  },
  {
   "cell_type": "markdown",
   "id": "84f37d4a-a62f-44c9-b24a-14dc19d66fb1",
   "metadata": {},
   "source": [
    "Faça o boxplot para tentar perceber se há diferença entre as amostras:"
   ]
  },
  {
   "cell_type": "code",
   "execution_count": 32,
   "id": "a32df5bb-f6f5-4b08-8c70-6c7871e74628",
   "metadata": {},
   "outputs": [
    {
     "data": {
      "image/png": "[encoded data removed]",
      "text/plain": [
       "plot without title"
      ]
     },
     "metadata": {
      "image/png": {
       "height": 420,
       "width": 420
      }
     },
     "output_type": "display_data"
    }
   ],
   "source": [
    "boxplot(a,b)"
   ]
  },
  {
   "cell_type": "markdown",
   "id": "032cbb85-f636-40fb-90c8-14d921deb582",
   "metadata": {},
   "source": [
    "- Discorra sobre o que você enxerga neste gráfico.  \n",
    "\n",
    "Ao se observar cada um dos boxplots, pode-se concluir que o primeiro (algoritmo A, ou 1) apresentou um desempenho mais uniforme, ou seja, com menor variância nas amostras coletadas, uma vez que os dados estão mais próximos da mediana. Em contrapartida, o segundo (algoritmo B, ou 2) gerou resultados mais variados e, assim, menos uniformes."
   ]
  },
  {
   "cell_type": "markdown",
   "id": "904a36d9-d59a-4a0a-bc5b-d78837040030",
   "metadata": {},
   "source": [
    "O teste necessário, assumindo normalidade dos dados, é um teste *t* não pareado. Inicialmente, vamos fazer o seguinte teste:  \n",
    "\n",
    "**Teste para as médias:**  \n",
    "- $ H_0: \\mu_A = \\mu_B $\n",
    "- $ H_A: \\mu_A \\neq \\mu_B $\n",
    "\n",
    "Para fazer este teste, é necessário verificar se as variâncias das populações podem ser consideradas iguais:   \n",
    "\n",
    "**Teste para as variâncias (homocedasticidade):**  \n",
    "- $ H_0: \\sigma^2_A = \\sigma^2_B $\n",
    "- $ H_A: \\sigma^2_A \\neq \\sigma^2_B $\n",
    "\n",
    "Neste caso, usamos um teste da razão de variâncias que faz uso da distribuição *F*-Snedecor.  "
   ]
  },
  {
   "cell_type": "code",
   "execution_count": 33,
   "id": "a40dfba8-7efb-44d8-bc92-2b5d87b79e72",
   "metadata": {},
   "outputs": [
    {
     "data": {
      "text/plain": [
       "\n",
       "\tF test to compare two variances\n",
       "\n",
       "data:  a and b\n",
       "F = 0.51073, num df = 19, denom df = 17, p-value = 0.1591\n",
       "alternative hypothesis: true ratio of variances is not equal to 1\n",
       "95 percent confidence interval:\n",
       " 0.193964 1.311047\n",
       "sample estimates:\n",
       "ratio of variances \n",
       "         0.5107326 \n"
      ]
     },
     "metadata": {},
     "output_type": "display_data"
    }
   ],
   "source": [
    "var.test(a,b)"
   ]
  },
  {
   "cell_type": "markdown",
   "id": "7a1778c0-03cb-4b4b-a9ce-e3cdd4de66bc",
   "metadata": {},
   "source": [
    "- Qual foi o p-valor do teste?\n",
    "\n",
    "Temos que o p-valor obtido foi igual à $0,1591$. \n",
    "\n",
    "- A que conclusão chegamos ?\n",
    "\n",
    "Em comparação ao nível de significância ($\\alpha$) igual à $0,05$, conclui-se que, para o teste da razão de variâncias que faz uso da distribuição F-Snedecor (teste F), deve-se falhar em rejeitar a hipótese nula, uma vez que o p-valor $> \\alpha$. Logo, assumimos que não existe diferença significativa entre as variâncias. Esta conclusão contradiz com as afirmações feitas sobre a análise dos \\textit{boxplots}, ou seja, cabe ao tomador de decisão avaliar as ferramentas e seus resultados para a determinada aplicação.\n",
    "\n",
    "Se o p-valor for maior que o nível de signi\u001c",
    "cância assumiremos variâncias populacionais iguais e faremos o teste t para duas amostras usando o seguinte comando:"
   ]
  },
  {
   "cell_type": "code",
   "execution_count": 34,
   "id": "5f069f0e-6fb4-45c5-8dac-084e088e2006",
   "metadata": {},
   "outputs": [
    {
     "data": {
      "text/plain": [
       "\n",
       "\tTwo Sample t-test\n",
       "\n",
       "data:  a and b\n",
       "t = 1.6897, df = 36, p-value = 0.09973\n",
       "alternative hypothesis: true difference in means is not equal to 0\n",
       "95 percent confidence interval:\n",
       " -3.660637 40.216193\n",
       "sample estimates:\n",
       "mean of x mean of y \n",
       " 1096.000  1077.722 \n"
      ]
     },
     "metadata": {},
     "output_type": "display_data"
    }
   ],
   "source": [
    "t.test(a, b,\n",
    "       alternative = \"two.sided\",\n",
    "       mu = 0,\n",
    "       paired = FALSE,\n",
    "       var.equal =TRUE,\n",
    "       conf.level = 1-0.05)"
   ]
  },
  {
   "cell_type": "markdown",
   "id": "a71f6199-0ce7-4884-8001-93fcebc72512",
   "metadata": {},
   "source": [
    "- A que conclusão chegamos usando $5\\%$ de significância?\n",
    "\n",
    "Pelo resultado do teste t para duas amostras, também observa-se que o p-valor $> \\alpha$ e mais uma vez falha em rejeitar a hipótese nula. Portanto, para o nível de significância de $5\\%$ as médias não apresentam diferença significativa."
   ]
  }
 ],
 "metadata": {
  "kernelspec": {
   "display_name": "R",
   "language": "R",
   "name": "ir"
  },
  "language_info": {
   "codemirror_mode": "r",
   "file_extension": ".r",
   "mimetype": "text/x-r-source",
   "name": "R",
   "pygments_lexer": "r",
   "version": "4.5.0"
  }
 },
 "nbformat": 4,
 "nbformat_minor": 5
}
